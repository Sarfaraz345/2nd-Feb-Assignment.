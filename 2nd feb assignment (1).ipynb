{
 "cells": [
  {
   "cell_type": "code",
   "execution_count": null,
   "id": "cbdbf4d8-d35d-47df-9a23-d4a0523f4f1b",
   "metadata": {},
   "outputs": [],
   "source": [
    "Q.1> Explain with an example each when to use a for loop and a while loop.\n",
    "Ans> For loops are used when you want to do operations on each member of a sequence,\n",
    "      in order. While loops are used when you need to\n",
    "      operate on the elements out-of-order,access / operate on multiple elements \n",
    "      simultaneously, or loop until some condition changes from True to False. – apraetor"
   ]
  },
  {
   "cell_type": "code",
   "execution_count": null,
   "id": "766e62d2-123f-4a14-a19b-f12d81c976bb",
   "metadata": {},
   "outputs": [],
   "source": [
    "#Q.2>  Write a python program to print the sum and product of the first 10 natural numbers using for \n",
    "#      and while loop.\n",
    "#Ans>\n",
    "   # using for loop\n",
    "    sum = 0\n",
    "    product = 1\n",
    "    for i in range(1, 11):\n",
    "        sum += i\n",
    "    product *= i\n",
    "    print(\"Sum of first 10 natural numbers (using for loop):\", sum)\n",
    "    print(\"Product of first 10 natural numbers (using for loop):\", product)\n",
    "\n",
    "# using while loop\n",
    "sum = 0\n",
    "product = 1\n",
    "i = 1\n",
    "while i <= 10:\n",
    "    sum += i\n",
    "    product *= i\n",
    "    i += 1\n",
    "print(\"Sum of first 10 natural numbers (using while loop):\", sum)\n",
    "print(\"Product of first 10 natural numbers (using while loop):\", product)\n"
   ]
  },
  {
   "cell_type": "code",
   "execution_count": 6,
   "id": "f576ccd1-4afc-4caf-8f1c-145f6a8429e2",
   "metadata": {},
   "outputs": [
    {
     "name": "stdin",
     "output_type": "stream",
     "text": [
      "Enter number of units consumed:  310\n"
     ]
    },
    {
     "name": "stdout",
     "output_type": "stream",
     "text": [
      "Electricity bill: Rs. 2250.0\n"
     ]
    }
   ],
   "source": [
    "'''Q.3> Create a python program to compute the electricity bill for a household.\n",
    "     The per-unit charges in rupees are as follows: For the first 100 units, the user will be charged Rs. 4.5 per \n",
    "     unit, for the next 100 units, the user will be charged Rs. 6 per unit, and for the next 100 units, the user will \n",
    "     be charged Rs. 10 per unit, After 300 units and above the user will be charged Rs. 20 per unit.\n",
    "     You are required to take the units of electricity consumed in a month from the user as input.\n",
    "        Your program must pass this test case: when the unit of electricity consumed by the user in a month is \n",
    "     310, the total electricity bill should be 2250\n",
    "Ans>'''\n",
    "def electricity_bill(units):\n",
    "    bill = 0\n",
    "    if units <= 100:\n",
    "        bill = units * 4.5\n",
    "    elif units <= 200:\n",
    "        bill = (100 * 4.5) + ((units - 100) * 6)\n",
    "    elif units <= 300:\n",
    "        bill = (100 * 4.5) + (100 * 6) + ((units - 200) * 10)\n",
    "    else:\n",
    "        bill = (100 * 4.5) + (100 * 6) + (100 * 10) + ((units - 300) * 20)\n",
    "    return bill\n",
    "\n",
    "units = int(input(\"Enter number of units consumed: \"))\n",
    "print(\"Electricity bill: Rs.\", electricity_bill(units))\n"
   ]
  },
  {
   "cell_type": "code",
   "execution_count": 7,
   "id": "173cffaf-657e-403b-a922-7b9345aac40b",
   "metadata": {},
   "outputs": [
    {
     "name": "stdout",
     "output_type": "stream",
     "text": [
      "Cubes of numbers (1 to 100) that are divisible by 4 or 5 (using for loop): [8, 64, 125, 216, 512, 1000, 1728, 2744, 3375, 4096, 5832, 8000, 10648, 13824, 15625, 17576, 21952, 27000, 32768, 39304, 42875, 46656, 54872, 64000, 74088, 85184, 91125, 97336, 110592, 125000, 140608, 157464, 166375, 175616, 195112, 216000, 238328, 262144, 274625, 287496, 314432, 343000, 373248, 405224, 421875, 438976, 474552, 512000, 551368, 592704, 614125, 636056, 681472, 729000, 778688, 830584, 857375, 884736, 941192, 1000000]\n",
      "Cubes of numbers (1 to 100) that are divisible by 4 or 5 (using while loop): [8, 64, 125, 216, 512, 1000, 1728, 2744, 3375, 4096, 5832, 8000, 10648, 13824, 15625, 17576, 21952, 27000, 32768, 39304, 42875, 46656, 54872, 64000, 74088, 85184, 91125, 97336, 110592, 125000, 140608, 157464, 166375, 175616, 195112, 216000, 238328, 262144, 274625, 287496, 314432, 343000, 373248, 405224, 421875, 438976, 474552, 512000, 551368, 592704, 614125, 636056, 681472, 729000, 778688, 830584, 857375, 884736, 941192, 1000000]\n"
     ]
    }
   ],
   "source": [
    "'''Q.4> Create a list of numbers from 1 to 100. Use for loop and while loop to calculate the cube of each \n",
    "        number and if the cube of that number is divisible by 4 or 5 then append that number in a list and print \n",
    "        that list.\n",
    "Ans>'''\n",
    "\n",
    "# using for loop\n",
    "cubes = []\n",
    "for i in range(1, 101):\n",
    "    cube = i ** 3\n",
    "    if cube % 4 == 0 or cube % 5 == 0:\n",
    "        cubes.append(cube)\n",
    "print(\"Cubes of numbers (1 to 100) that are divisible by 4 or 5 (using for loop):\", cubes)\n",
    "\n",
    "# using while loop\n",
    "cubes = []\n",
    "i = 1\n",
    "while i <= 100:\n",
    "    cube = i ** 3\n",
    "    if cube % 4 == 0 or cube % 5 == 0:\n",
    "        cubes.append(cube)\n",
    "    i += 1\n",
    "print(\"Cubes of numbers (1 to 100) that are divisible by 4 or 5 (using while loop):\", cubes)\n"
   ]
  },
  {
   "cell_type": "code",
   "execution_count": 23,
   "id": "5a313d5f-b70c-4f1b-8003-559660863858",
   "metadata": {},
   "outputs": [
    {
     "name": "stdout",
     "output_type": "stream",
     "text": [
      "Number of vowels in the string: 12\n"
     ]
    }
   ],
   "source": [
    "'''Q.5>  Write a program to filter count vowels in the below-given string.\n",
    "      string = \"I want to become a data scientist\"\n",
    "Ans>'''\n",
    "string = \"I want to become a data scientist\"\n",
    "\n",
    "vowels = \"aeiouAEIOU\"\n",
    "count = 0\n",
    "\n",
    "for char in string:\n",
    "    if char in vowels:\n",
    "        count += 1\n",
    "\n",
    "print(\"Number of vowels in the string:\", count)\n"
   ]
  },
  {
   "cell_type": "code",
   "execution_count": null,
   "id": "17da210c-f17c-46be-905d-d08e96b5cf81",
   "metadata": {},
   "outputs": [],
   "source": []
  }
 ],
 "metadata": {
  "kernelspec": {
   "display_name": "Python 3 (ipykernel)",
   "language": "python",
   "name": "python3"
  },
  "language_info": {
   "codemirror_mode": {
    "name": "ipython",
    "version": 3
   },
   "file_extension": ".py",
   "mimetype": "text/x-python",
   "name": "python",
   "nbconvert_exporter": "python",
   "pygments_lexer": "ipython3",
   "version": "3.10.8"
  }
 },
 "nbformat": 4,
 "nbformat_minor": 5
}
